{
 "cells": [
  {
   "cell_type": "code",
   "execution_count": 27,
   "metadata": {},
   "outputs": [
    {
     "name": "stdout",
     "output_type": "stream",
     "text": [
      "This is the initial import readout (filtered):\n",
      "        Employee ID  Age  Length of Service    City Name   Department Name  \\\n",
      "0             1318   52                 17    Vancouver         Executive   \n",
      "1             1318   53                 18    Vancouver         Executive   \n",
      "2             1318   54                 19    Vancouver         Executive   \n",
      "3             1318   55                 20    Vancouver         Executive   \n",
      "4             1318   56                 21    Vancouver         Executive   \n",
      "...            ...  ...                ...          ...               ...   \n",
      "49648         8258   21                  2    Valemount             Dairy   \n",
      "49649         8264   19                  0    Vancouver  Customer Service   \n",
      "49650         8279   21                  2   White Rock  Customer Service   \n",
      "49651         8296   19                  0      Kelowna  Customer Service   \n",
      "49652         8321   20                  1  Grand Forks  Customer Service   \n",
      "\n",
      "       Store Name Gender     Term Reason       Term Type      Status  \\\n",
      "0              35      M  Not Applicable  Not Applicable      ACTIVE   \n",
      "1              35      M  Not Applicable  Not Applicable      ACTIVE   \n",
      "2              35      M  Not Applicable  Not Applicable      ACTIVE   \n",
      "3              35      M  Not Applicable  Not Applicable      ACTIVE   \n",
      "4              35      M  Not Applicable  Not Applicable      ACTIVE   \n",
      "...           ...    ...             ...             ...         ...   \n",
      "49648          34      M          Layoff     Involuntary  TERMINATED   \n",
      "49649          44      F      Resignaton       Voluntary  TERMINATED   \n",
      "49650          39      F          Layoff     Involuntary  TERMINATED   \n",
      "49651          16      F      Resignaton       Voluntary  TERMINATED   \n",
      "49652          13      F          Layoff     Involuntary  TERMINATED   \n",
      "\n",
      "      Business_Unit Original Hire Date   Birthdate      Record Date  \n",
      "0        HEADOFFICE          8/28/1989    1/3/1954  12/31/2006 0:00  \n",
      "1        HEADOFFICE          8/28/1989    1/3/1954  12/31/2007 0:00  \n",
      "2        HEADOFFICE          8/28/1989    1/3/1954  12/31/2008 0:00  \n",
      "3        HEADOFFICE          8/28/1989    1/3/1954  12/31/2009 0:00  \n",
      "4        HEADOFFICE          8/28/1989    1/3/1954  12/31/2010 0:00  \n",
      "...             ...                ...         ...              ...  \n",
      "49648        STORES          8/19/2013   5/28/1994   12/1/2015 0:00  \n",
      "49649        STORES          8/27/2013   6/13/1994    8/1/2013 0:00  \n",
      "49650        STORES          9/15/2013   7/18/1994   12/1/2015 0:00  \n",
      "49651        STORES          10/9/2013    9/2/1994   12/1/2013 0:00  \n",
      "49652        STORES         11/24/2013  11/28/1994   12/1/2014 0:00  \n",
      "\n",
      "[49653 rows x 14 columns]\n",
      "------------------------------------------------------\n",
      "------------------------------------------------------\n"
     ]
    }
   ],
   "source": [
    "'''\n",
    "Employee Attrition\n",
    "\n",
    "Dataset: https://www.kaggle.com/HRAnalyticRepository/employee-attrition-data\n",
    "'''\n",
    "\n",
    "\n",
    "import pandas as pd\n",
    "import seaborn as sbn\n",
    "import matplotlib.pyplot as plt\n",
    "import numpy as np\n",
    "from sklearn.linear_model import LinearRegression\n",
    "\n",
    "\n",
    "# import and basic set up  \n",
    "data = pd.read_csv('~/Desktop/data analytics data sets/EE Attrition/EEAttrition.csv')\n",
    "\n",
    "data=data.loc[:,['EmployeeID', 'age', 'length_of_service', 'city_name', 'department_name', \\\n",
    "                 'store_name', 'gender_short', 'termreason_desc', 'termtype_desc', 'STATUS', \\\n",
    "                 'BUSINESS_UNIT', 'orighiredate_key', 'birthdate_key', 'recorddate_key']]\n",
    "\n",
    "data.columns = ['Employee ID', 'Age', 'Length of Service', 'City Name', \\\n",
    "                                   'Department Name', 'Store Name', 'Gender', 'Term Reason', \\\n",
    "                                   'Term Type', 'Status', 'Business_Unit', 'Original Hire Date', \\\n",
    "                                    'Birthdate', 'Record Date']\n",
    "\n",
    "print(\"This is the initial import readout (filtered):\\n\", data)\n",
    "\n",
    "print(\"------------------------------------------------------\")\n",
    "print(\"------------------------------------------------------\")"
   ]
  },
  {
   "cell_type": "code",
   "execution_count": 28,
   "metadata": {},
   "outputs": [
    {
     "name": "stdout",
     "output_type": "stream",
     "text": [
      "DataFrame Sorted:\n",
      " Employee ID            int64\n",
      "Age                    int64\n",
      "Length of Service      int64\n",
      "City Name             object\n",
      "Department Name       object\n",
      "Store Name             int64\n",
      "Gender                object\n",
      "Term Reason           object\n",
      "Term Type             object\n",
      "Status                object\n",
      "Business_Unit         object\n",
      "Original Hire Date    object\n",
      "Birthdate             object\n",
      "Record Date           object\n",
      "dtype: object\n",
      "------------------------------------------------------\n",
      "------------------------------------------------------\n",
      "The size of the dataframe is (including duplicates):  49653  observations.\n",
      "------------------------------------------------------\n",
      "------------------------------------------------------\n",
      "<class 'pandas.core.frame.DataFrame'>\n",
      "RangeIndex: 49653 entries, 0 to 49652\n",
      "Data columns (total 14 columns):\n",
      " #   Column              Non-Null Count  Dtype \n",
      "---  ------              --------------  ----- \n",
      " 0   Employee ID         49653 non-null  int64 \n",
      " 1   Age                 49653 non-null  int64 \n",
      " 2   Length of Service   49653 non-null  int64 \n",
      " 3   City Name           49653 non-null  object\n",
      " 4   Department Name     49653 non-null  object\n",
      " 5   Store Name          49653 non-null  int64 \n",
      " 6   Gender              49653 non-null  object\n",
      " 7   Term Reason         49653 non-null  object\n",
      " 8   Term Type           49653 non-null  object\n",
      " 9   Status              49653 non-null  object\n",
      " 10  Business_Unit       49653 non-null  object\n",
      " 11  Original Hire Date  49653 non-null  object\n",
      " 12  Birthdate           49653 non-null  object\n",
      " 13  Record Date         49653 non-null  object\n",
      "dtypes: int64(4), object(10)\n",
      "memory usage: 5.3+ MB\n",
      "The data.info function None\n",
      "------------------------------------------------------\n",
      "------------------------------------------------------\n",
      "There are no missing values.\n",
      "------------------------------------------------------\n",
      "------------------------------------------------------\n",
      "Data after elimating duplicate Employee IDs:\n",
      "\b        Employee ID  Age  Length of Service       City Name   Department Name  \\\n",
      "48167         8336   21                  2       Vancouver             Dairy   \n",
      "48164         8335   21                  2       Vancouver             Dairy   \n",
      "48161         8334   21                  2  West Vancouver  Customer Service   \n",
      "48158         8333   21                  2    Fort St John  Customer Service   \n",
      "48155         8332   21                  2         Langley  Customer Service   \n",
      "...            ...  ...                ...             ...               ...   \n",
      "49            1322   57                 26       Vancouver         Executive   \n",
      "39            1321   56                 26       Vancouver         Executive   \n",
      "29            1320   60                 26       Vancouver         Executive   \n",
      "19            1319   58                 26       Vancouver         Executive   \n",
      "9             1318   61                 26       Vancouver         Executive   \n",
      "\n",
      "       Store Name Gender     Term Reason       Term Type  Status  \\\n",
      "48167          35      M  Not Applicable  Not Applicable  ACTIVE   \n",
      "48164          35      F  Not Applicable  Not Applicable  ACTIVE   \n",
      "48161          38      F  Not Applicable  Not Applicable  ACTIVE   \n",
      "48158          12      M  Not Applicable  Not Applicable  ACTIVE   \n",
      "48155          17      F  Not Applicable  Not Applicable  ACTIVE   \n",
      "...           ...    ...             ...             ...     ...   \n",
      "49             35      M  Not Applicable  Not Applicable  ACTIVE   \n",
      "39             35      M  Not Applicable  Not Applicable  ACTIVE   \n",
      "29             35      F  Not Applicable  Not Applicable  ACTIVE   \n",
      "19             35      F  Not Applicable  Not Applicable  ACTIVE   \n",
      "9              35      M  Not Applicable  Not Applicable  ACTIVE   \n",
      "\n",
      "      Business_Unit Original Hire Date   Birthdate      Record Date  \n",
      "48167        STORES         12/11/2013  12/31/1994  12/31/2015 0:00  \n",
      "48164        STORES         12/10/2013  12/28/1994  12/31/2015 0:00  \n",
      "48161        STORES          12/9/2013  12/27/1994  12/31/2015 0:00  \n",
      "48158        STORES          12/5/2013  12/19/1994  12/31/2015 0:00  \n",
      "48155        STORES          12/5/2013  12/20/1994  12/31/2015 0:00  \n",
      "...             ...                ...         ...              ...  \n",
      "49       HEADOFFICE          8/31/1989    1/9/1958  12/31/2015 0:00  \n",
      "39       HEADOFFICE          8/28/1989    1/2/1959  12/31/2015 0:00  \n",
      "29       HEADOFFICE          8/28/1989    1/2/1955  12/31/2015 0:00  \n",
      "19       HEADOFFICE          8/28/1989    1/3/1957  12/31/2015 0:00  \n",
      "9        HEADOFFICE          8/28/1989    1/3/1954  12/31/2015 0:00  \n",
      "\n",
      "[6284 rows x 14 columns]\n",
      "The number of rows after removing duplicates:  6284 observations.\n"
     ]
    }
   ],
   "source": [
    "print(\"DataFrame Sorted:\\n\",data.dtypes)\n",
    "\n",
    "print(\"------------------------------------------------------\")\n",
    "print(\"------------------------------------------------------\")\n",
    "observations = int(data.size/len(data.columns))\n",
    "print(\"The size of the dataframe is (including duplicates): \", observations,\" observations.\")\n",
    "print(\"------------------------------------------------------\")\n",
    "print(\"------------------------------------------------------\")\n",
    "print(\"The data.info function\",data.info())\n",
    "print(\"------------------------------------------------------\")\n",
    "print(\"------------------------------------------------------\")\n",
    "#dealing with missing data\n",
    "if data.isnull().values.any() == True:\n",
    "    print(\"There is at least one missing one value.\")\n",
    "else:\n",
    "    print(\"There are no missing values.\")\n",
    "    \n",
    "#since there are no missing values, there is no need to modify or drop any entries\n",
    "print(\"------------------------------------------------------\")\n",
    "print(\"------------------------------------------------------\")\n",
    "\n",
    "#MISSPELLING FOUND = New Westminister and New Westminster (the first one is accurate, so change the second to the first)\n",
    "data.replace(\"New Westminster\", \"New Westminister\", inplace=True)\n",
    "\n",
    "#delete duplicates of employee ID. Take the newest version of each (the one with the highest age of each employee)\n",
    "data = data.sort_values(by=['Employee ID','Length of Service'], ascending=False)\n",
    "\n",
    "#marking duplicates\n",
    "duplicates = data['Employee ID'].duplicated(keep='first')\n",
    "\n",
    "# elimating the duplicates\n",
    "data = data[~duplicates]\n",
    "print(\"Data after elimating duplicate Employee IDs:\\n\\b\",data)\n",
    "print(\"The number of rows after removing duplicates: \",int(data.size/len(data.columns)), \"observations.\")\n",
    "\n",
    "#Export to a CSV file\n",
    "#data.to_csv('~/Desktop/data analytics data sets/EE Attrition/NoDuplicates.csv')"
   ]
  },
  {
   "cell_type": "code",
   "execution_count": 29,
   "metadata": {},
   "outputs": [
    {
     "name": "stdout",
     "output_type": "stream",
     "text": [
      "This is the start of the descriptive statistics on the population\n",
      "------------------------------------------------------\n",
      "This is the describe function for the dataframe \n",
      "                Age  Length of Service\n",
      "count  6284.000000        6284.000000\n",
      "mean     44.671865          12.836410\n",
      "std      14.071380           6.747744\n",
      "min      19.000000           0.000000\n",
      "1%       21.000000           1.000000\n",
      "10%      25.000000           4.000000\n",
      "25%      32.000000           7.000000\n",
      "50%      45.000000          13.000000\n",
      "75%      58.000000          19.000000\n",
      "90%      64.000000          22.000000\n",
      "99%      65.000000          25.000000\n",
      "max      65.000000          26.000000\n"
     ]
    },
    {
     "data": {
      "image/png": "[encoded data removed]",
      "text/plain": [
       "<Figure size 432x288 with 1 Axes>"
      ]
     },
     "metadata": {
      "needs_background": "light"
     },
     "output_type": "display_data"
    },
    {
     "name": "stdout",
     "output_type": "stream",
     "text": [
      "------------------------------------------------------\n",
      "This is the skew function for the data\n",
      " Employee ID         -0.146261\n",
      "Age                 -0.114340\n",
      "Length of Service    0.041881\n",
      "Store Name          -0.151908\n",
      "dtype: float64\n",
      "------------------------------------------------------\n",
      "This is the var function (variance) for the data\n",
      " Employee ID          3.826247e+06\n",
      "Age                  1.980037e+02\n",
      "Length of Service    4.553204e+01\n",
      "Store Name           1.796335e+02\n",
      "dtype: float64\n",
      "------------------------------------------------------\n",
      "This is the median function for the data\n",
      " Employee ID          5180.5\n",
      "Age                    45.0\n",
      "Length of Service      13.0\n",
      "Store Name             28.0\n",
      "dtype: float64\n",
      "------------------------------------------------------\n",
      "This is the standard deviation function for the data\n",
      " Employee ID          1956.079548\n",
      "Age                    14.071380\n",
      "Length of Service       6.747744\n",
      "Store Name             13.402742\n",
      "dtype: float64\n",
      "------------------------------------------------------\n",
      "------------------------------------------------------\n",
      "This is the Covariance function (cov())\n",
      "                     Employee ID           Age  Length of Service  Store Name\n",
      "Employee ID        3.826247e+06 -26073.341643      -12249.451902 -183.932203\n",
      "Age               -2.607334e+04    198.003722          81.011249   -1.390134\n",
      "Length of Service -1.224945e+04     81.011249          45.532044    1.864730\n",
      "Store Name        -1.839322e+02     -1.390134           1.864730  179.633491\n",
      "------------------------------------------------------\n",
      "------------------------------------------------------\n",
      "The correlation matrix\n",
      "                    Employee ID       Age  Length of Service  Store Name\n",
      "Employee ID           1.000000 -0.947269          -0.928050   -0.007016\n",
      "Age                  -0.947269  1.000000           0.853198   -0.007371\n",
      "Length of Service    -0.928050  0.853198           1.000000    0.020619\n",
      "Store Name           -0.007016 -0.007371           0.020619    1.000000\n"
     ]
    },
    {
     "data": {
      "text/plain": [
       "<matplotlib.axes._subplots.AxesSubplot at 0x7fc362e90bd0>"
      ]
     },
     "execution_count": 29,
     "metadata": {},
     "output_type": "execute_result"
    },
    {
     "data": {
      "image/png": "[encoded data removed]",
      "text/plain": [
       "<Figure size 432x288 with 2 Axes>"
      ]
     },
     "metadata": {
      "needs_background": "light"
     },
     "output_type": "display_data"
    }
   ],
   "source": [
    "#describe, kurtosis, skewness, variance, median, and mode of the population\n",
    "print(\"This is the start of the descriptive statistics on the population\")\n",
    "print(\"------------------------------------------------------\")\n",
    "perc= [.01, .1, .25, .5, .75, .9, .99]\n",
    "numericColumns=[\"Age\", \"Length of Service\"]\n",
    "print(\"This is the describe function for the dataframe \\n\",data[numericColumns].describe(percentiles=perc))\n",
    "data_to_plot =[data[numericColumns[0]], data[numericColumns[1]]]\n",
    "\n",
    "fig = plt.figure()\n",
    "\n",
    "axes = fig.add_axes([0,0,1,1])\n",
    "axes.set_title(\"Violin Plot for Age and Length of Service Describe Function\")\n",
    "axes.set_xlabel(\"Age and Length of Service of Employees\")\n",
    "axes.set_ylabel(\"# of Years\")\n",
    "boxplot = axes.violinplot(data_to_plot)\n",
    "\n",
    "plt.show()\n",
    "\n",
    "#print(\"This is the kurtosis function for the data\\n\\n\",data.kurtosis())\n",
    "print(\"------------------------------------------------------\")\n",
    "print(\"This is the skew function for the data\\n\",data.skew())\n",
    "print(\"------------------------------------------------------\")\n",
    "print(\"This is the var function (variance) for the data\\n\",data.var())\n",
    "print(\"------------------------------------------------------\")\n",
    "print(\"This is the median function for the data\\n\",data.median())\n",
    "print(\"------------------------------------------------------\")\n",
    "print(\"This is the standard deviation function for the data\\n\",data.std())\n",
    "#covariances ( cov() )\n",
    "print(\"------------------------------------------------------\")\n",
    "print(\"------------------------------------------------------\")\n",
    "print(\"This is the Covariance function (cov())\\n\", data.cov())\n",
    "\n",
    "#correlation matrix (also add the visual in the form of a heatmap)\n",
    "print(\"------------------------------------------------------\")\n",
    "print(\"------------------------------------------------------\")\n",
    "corrMatrix = data.corr()\n",
    "print(\"The correlation matrix\\n\", corrMatrix)\n",
    "\n",
    "axes = plt.axes()\n",
    "axes.set_title(\"Correlation Matrix\")\n",
    "\n",
    "sbn.heatmap(corrMatrix, annot=True)"
   ]
  },
  {
   "cell_type": "code",
   "execution_count": 43,
   "metadata": {},
   "outputs": [
    {
     "name": "stdout",
     "output_type": "stream",
     "text": [
      "------------------------------------------------------\n",
      "------------------------------------------------------\n",
      "Number of Male vs Female Employees\n",
      "         Employee ID\n",
      "       count_nonzero\n",
      "Gender              \n",
      "F               3278\n",
      "M               3006\n"
     ]
    },
    {
     "data": {
      "image/png": "[encoded data removed]",
      "text/plain": [
       "<Figure size 432x288 with 1 Axes>"
      ]
     },
     "metadata": {},
     "output_type": "display_data"
    }
   ],
   "source": [
    "EEID=['Employee ID']\n",
    "print(\"------------------------------------------------------\")\n",
    "print(\"------------------------------------------------------\")\n",
    "numericColumns=[\"Age\", \"Length of Service\"]\n",
    "\n",
    "print(\"Number of Male vs Female Employees\")\n",
    "groupedByGender = data.groupby(['Gender'])\n",
    "print(groupedByGender[EEID].agg([np.count_nonzero]))\n",
    "\n",
    "females=groupedByGender.get_group('F').size\n",
    "males=groupedByGender.get_group('M').size\n",
    "\n",
    "figureNumberMaleFemale=plt.figure()\n",
    "axesGender=figureNumberMaleFemale.add_axes([0,0,1,1])\n",
    "axesGender.axis('equal')\n",
    "labels='Female', 'Male'\n",
    "colors=['purple', 'blue']\n",
    "genderValues = [females, males]\n",
    "\n",
    "axesGender.pie(genderValues, shadow='True', autopct='%1.2f%%', colors=colors, labels=labels)\n",
    "axesGender.set_title('Male Vs Female Employees')\n",
    "plt.show()"
   ]
  },
  {
   "cell_type": "code",
   "execution_count": 44,
   "metadata": {},
   "outputs": [
    {
     "name": "stdout",
     "output_type": "stream",
     "text": [
      "------------------------------------------------------\n",
      "------------------------------------------------------\n",
      "Number of Male vs Female Employees at HQ\n",
      "                       Employee ID\n",
      "                     count_nonzero\n",
      "Gender Business_Unit              \n",
      "F      HEADOFFICE               42\n",
      "       STORES                 3236\n",
      "M      HEADOFFICE               38\n",
      "       STORES                 2968\n"
     ]
    },
    {
     "data": {
      "image/png": "[encoded data removed]",
      "text/plain": [
       "<Figure size 432x288 with 1 Axes>"
      ]
     },
     "metadata": {},
     "output_type": "display_data"
    },
    {
     "name": "stdout",
     "output_type": "stream",
     "text": [
      "------------------------------------------------------\n",
      "------------------------------------------------------\n"
     ]
    }
   ],
   "source": [
    "#focus on the HQ location\n",
    "print(\"------------------------------------------------------\")\n",
    "print(\"------------------------------------------------------\")\n",
    "numericColumns=[\"Age\", \"Length of Service\"]\n",
    "\n",
    "print(\"Number of Male vs Female Employees at HQ\")\n",
    "groupedByGenderHQ = data.groupby(['Gender', 'Business_Unit'])\n",
    "                      \n",
    "print(groupedByGenderHQ[EEID].agg([np.count_nonzero]))\n",
    "\n",
    "females=groupedByGenderHQ.get_group(('F', 'HEADOFFICE')).size\n",
    "males=groupedByGenderHQ.get_group(('M', 'HEADOFFICE')).size\n",
    "\n",
    "figureNumberMaleFemale=plt.figure()\n",
    "axesGender=figureNumberMaleFemale.add_axes([0,0,1,1])\n",
    "axesGender.axis('equal')\n",
    "labels='Female', 'Male'\n",
    "colors=['purple', 'blue']\n",
    "genderValues = [females, males]\n",
    "\n",
    "axesGender.pie(genderValues, shadow='True', autopct='%1.1f%%', colors=colors, labels=labels)\n",
    "axesGender.set_title('Male Vs Female Employees at HQ')\n",
    "plt.show()\n",
    "\n",
    "print(\"------------------------------------------------------\")\n",
    "print(\"------------------------------------------------------\")\n",
    "numericColumns=[\"Age\", \"Length of Service\"]"
   ]
  },
  {
   "cell_type": "code",
   "execution_count": 45,
   "metadata": {},
   "outputs": [
    {
     "name": "stdout",
     "output_type": "stream",
     "text": [
      "Number of Male vs Female Employees at Store Locations\n"
     ]
    },
    {
     "data": {
      "image/png": "[encoded data removed]",
      "text/plain": [
       "<Figure size 432x288 with 1 Axes>"
      ]
     },
     "metadata": {},
     "output_type": "display_data"
    }
   ],
   "source": [
    "#Focus on the store locations (as a whole)\n",
    "print(\"Number of Male vs Female Employees at Store Locations\")\n",
    "groupedByGenderStore = data.groupby(['Gender', 'Business_Unit'])\n",
    "\n",
    "femalesStore=groupedByGenderStore.get_group(('F', 'STORES')).size\n",
    "malesStore=groupedByGenderStore.get_group(('M', 'STORES')).size\n",
    "\n",
    "figureNumberMaleFemaleStore=plt.figure()\n",
    "axesGenderStore=figureNumberMaleFemaleStore.add_axes([0,0,1,1])\n",
    "axesGenderStore.axis('equal')\n",
    "labels='Female', 'Male'\n",
    "colors=['purple', 'blue']\n",
    "genderValuesStore = [femalesStore, malesStore]\n",
    "\n",
    "axesGenderStore.pie(genderValuesStore, shadow='True', autopct='%1.2f%%', colors=colors, labels=labels)\n",
    "axesGenderStore.set_title('Male Vs Female Employees at Store Locations')\n",
    "plt.show()"
   ]
  },
  {
   "cell_type": "code",
   "execution_count": 42,
   "metadata": {},
   "outputs": [
    {
     "name": "stdout",
     "output_type": "stream",
     "text": [
      "GroupedBy Business Unit and then Gender\n",
      "                       Employee ID\n",
      "                     count_nonzero\n",
      "Business_Unit Gender              \n",
      "HEADOFFICE    F                 42\n",
      "              M                 38\n",
      "STORES        F               3236\n",
      "              M               2968\n",
      "------------------------------------------------------\n",
      "------------------------------------------------------\n",
      "this is the start of the GroupBy analysis\n",
      "GroupedBy termination reason\n",
      "                      Age                                            \\\n",
      "                     mean        std amin amax median count_nonzero   \n",
      "Term Reason                                                           \n",
      "Layoff          40.804651  13.603840   20   64     39           215   \n",
      "Not Applicable  43.648238  13.328231   19   65     44          5336   \n",
      "Resignaton      29.990950   9.472924   19   61     29           221   \n",
      "Retirement      63.300781   2.370596   60   65     65           512   \n",
      "\n",
      "               Length of Service                                           \n",
      "                            mean       std amin amax median count_nonzero  \n",
      "Term Reason                                                                \n",
      "Layoff                 11.948837  7.293717    1   25     11           215  \n",
      "Not Applicable         13.103261  6.698712    0   26     13          5319  \n",
      "Resignaton              4.647059  4.585784    0   21      4           207  \n",
      "Retirement             13.962891  5.354424    8   25     13           512  \n",
      "\n",
      "\n"
     ]
    },
    {
     "data": {
      "image/png": "[encoded data removed]",
      "text/plain": [
       "<Figure size 432x288 with 1 Axes>"
      ]
     },
     "metadata": {},
     "output_type": "display_data"
    },
    {
     "name": "stdout",
     "output_type": "stream",
     "text": [
      "------------------------------------------------------\n",
      "------------------------------------------------------\n"
     ]
    }
   ],
   "source": [
    "print(\"GroupedBy Business Unit and then Gender\")\n",
    "\n",
    "GroupedByBUGender = data.groupby(['Business_Unit', 'Gender'])\n",
    "print(GroupedByBUGender[EEID].agg([np.count_nonzero]))\n",
    "print(\"------------------------------------------------------\")\n",
    "print(\"------------------------------------------------------\")\n",
    "\n",
    "print(\"this is the start of the GroupBy analysis\")\n",
    "print(\"GroupedBy termination reason\")\n",
    "\n",
    "groupedByTermReason = data.groupby('Term Reason')\n",
    "print(groupedByTermReason[numericColumns].agg([np.mean, np.std, np.amin, np.amax, np.median, np.count_nonzero]))\n",
    "\n",
    "#pie chart of the Term Reason (LoS Count of Non-Zero)\n",
    "print('\\n')\n",
    "figureTR = plt.figure()\n",
    "axTR = figureTR.add_axes([0,0,1,1])\n",
    "axTR.axis('equal')\n",
    "labels = 'Layoff', 'Still Employed', 'Resignation', 'Retirement'\n",
    "colors = ['yellow', 'blue', 'red', 'green']\n",
    "\n",
    "GroupedByTR= data.groupby('Term Reason')\n",
    "\n",
    "layoffType = GroupedByTR.get_group('Layoff').size\n",
    "StillEmployedType = GroupedByTR.get_group('Not Applicable').size\n",
    "ResignType = GroupedByTR.get_group('Resignaton').size\n",
    "RetireType = GroupedByTR.get_group('Retirement').size\n",
    "\n",
    "termReasonType=[layoffType, StillEmployedType, ResignType, RetireType]\n",
    "\n",
    "axTR.pie(termReasonType, labels=labels, colors=colors, shadow='True', startangle=180, autopct='%1.1f%%', pctdistance=.8)\n",
    "axTR.set_title('Termination Reason')\n",
    "plt.show()\n",
    "\n",
    "print(\"------------------------------------------------------\")\n",
    "print(\"------------------------------------------------------\")"
   ]
  },
  {
   "cell_type": "code",
   "execution_count": 33,
   "metadata": {},
   "outputs": [
    {
     "name": "stdout",
     "output_type": "stream",
     "text": [
      "GroupedBy City Name\n",
      "                        Age                                            \\\n",
      "                       mean        std amin amax median count_nonzero   \n",
      "City Name                                                               \n",
      "Abbotsford        43.100000  14.906488   21   65   42.0            90   \n",
      "Aldergrove        44.553846  14.612741   20   65   46.0            65   \n",
      "Bella Bella       39.666667  14.041954   22   63   38.0            18   \n",
      "Blue River        44.000000        NaN   44   44   44.0             1   \n",
      "Burnaby           43.643411  14.320293   21   65   44.0           258   \n",
      "Chilliwack        44.789116  14.632592   21   65   44.0           147   \n",
      "Cortes Island     47.000000  14.226735   29   64   47.5             6   \n",
      "Cranbrook         43.269406  14.024733   21   65   43.0           219   \n",
      "Dawson Creek      45.000000  16.139101   22   65   44.0            18   \n",
      "Dease Lake        50.000000   8.485281   44   56   50.0             2   \n",
      "Fort Nelson       40.936170  13.093982   21   65   38.0            47   \n",
      "Fort St John      44.483146  15.300113   21   65   44.0            89   \n",
      "Grand Forks       39.212121  12.312995   20   65   39.0            33   \n",
      "Haney             41.250000  14.013193   20   65   38.5            24   \n",
      "Kamloops          43.820225  14.194589   21   65   43.0           267   \n",
      "Kelowna           45.229508  13.284084   19   65   46.0           305   \n",
      "Langley           46.550847  13.941635   21   65   50.0           118   \n",
      "Nanaimo           44.492723  13.592908   21   65   45.0           481   \n",
      "Nelson            42.435897  13.651287   21   65   39.0            39   \n",
      "New Westminister  43.769575  14.102386   20   65   44.0           447   \n",
      "North Vancouver   43.395062  13.556990   21   65   45.0            81   \n",
      "Ocean Falls       56.142857   6.866066   43   64   58.0             7   \n",
      "Pitt Meadows      45.777778  17.405299   23   65   49.0             9   \n",
      "Port Coquitlam    47.865672  12.706352   24   65   51.0            67   \n",
      "Prince George     43.636364  14.098390   19   65   44.0           264   \n",
      "Princeton         39.578947  14.758485   21   64   38.0            19   \n",
      "Quesnel           46.148936  14.322670   22   65   50.5            94   \n",
      "Richmond          43.534091  13.983213   21   65   42.5           176   \n",
      "Squamish          45.495050  14.495947   20   65   45.0           101   \n",
      "Surrey            45.786802  14.038403   21   65   48.0           197   \n",
      "Terrace           46.081250  14.586964   21   65   48.0           160   \n",
      "Trail             44.528926  14.447649   19   65   46.0           121   \n",
      "Valemount         35.200000  15.122830   21   61   32.0             5   \n",
      "Vancouver         45.150862  14.059244   19   65   46.0          1392   \n",
      "Vernon            45.944954  13.738183   21   65   46.0           109   \n",
      "Victoria          45.546474  14.085992   19   65   47.0           624   \n",
      "West Vancouver    45.988095  15.156607   21   65   48.0            84   \n",
      "White Rock        45.821429  13.526527   21   64   47.0            28   \n",
      "Williams Lake     43.347222  13.354495   21   65   44.5            72   \n",
      "\n",
      "                 Length of Service                                           \n",
      "                              mean       std amin amax median count_nonzero  \n",
      "City Name                                                                    \n",
      "Abbotsford               11.744444  6.635893    0   25   13.0            88  \n",
      "Aldergrove               12.723077  6.739593    0   25   13.0            64  \n",
      "Bella Bella              10.500000  6.997899    1   24    9.5            18  \n",
      "Blue River               13.000000       NaN   13   13   13.0             1  \n",
      "Burnaby                  12.620155  6.926174    0   25   13.0           257  \n",
      "Chilliwack               12.891156  7.096333    0   24   13.0           145  \n",
      "Cortes Island            12.833333  5.455884    6   20   12.5             6  \n",
      "Cranbrook                12.616438  6.698549    1   25   13.0           219  \n",
      "Dawson Creek             13.277778  8.180361    2   25   12.5            18  \n",
      "Dease Lake               17.000000  4.242641   14   20   17.0             2  \n",
      "Fort Nelson              10.297872  5.856675    1   23   10.0            47  \n",
      "Fort St John             11.764045  6.733604    0   25   13.0            88  \n",
      "Grand Forks              10.030303  5.908071    0   24   10.0            32  \n",
      "Haney                    10.666667  5.768480    1   23   10.5            24  \n",
      "Kamloops                 12.183521  6.521799    0   25   13.0           266  \n",
      "Kelowna                  13.472131  6.537849    0   25   13.0           303  \n",
      "Langley                  13.050847  6.605938    1   25   13.0           118  \n",
      "Nanaimo                  12.989605  6.580740    0   26   13.0           478  \n",
      "Nelson                   12.025641  6.535277    2   24   12.0            39  \n",
      "New Westminister         12.241611  6.622747    0   25   13.0           446  \n",
      "North Vancouver          12.703704  6.588711    1   24   14.0            81  \n",
      "Ocean Falls              18.714286  4.191829   13   23   21.0             7  \n",
      "Pitt Meadows             10.777778  5.262551    3   19   13.0             9  \n",
      "Port Coquitlam           14.238806  6.532180    1   25   15.0            67  \n",
      "Prince George            12.231061  6.699670    0   25   13.0           262  \n",
      "Princeton                10.263158  6.496513    2   22    8.0            19  \n",
      "Quesnel                  12.585106  6.775048    1   25   13.0            94  \n",
      "Richmond                 12.369318  6.599998    1   25   12.0           176  \n",
      "Squamish                 13.396040  7.162512    0   25   13.0           100  \n",
      "Surrey                   13.248731  6.781883    1   25   13.0           197  \n",
      "Terrace                  13.243750  7.082396    0   26   13.0           159  \n",
      "Trail                    12.677686  6.715920    0   24   13.0           119  \n",
      "Valemount                 9.200000  8.043631    2   23    7.0             5  \n",
      "Vancouver                13.225575  6.841282    0   26   13.0          1384  \n",
      "Vernon                   13.926606  6.911754    1   25   14.0           109  \n",
      "Victoria                 13.059295  6.753016    0   25   13.0           622  \n",
      "West Vancouver           12.654762  7.071910    1   25   13.0            84  \n",
      "White Rock               12.964286  6.362402    2   24   12.0            28  \n",
      "Williams Lake            13.125000  6.848332    1   24   13.5            72  \n",
      "\n",
      " The average of the average Age and Length of Service\n",
      "\n",
      "             Age Length of Service\n",
      "           mean              mean\n",
      "mean  44.414703         12.629066\n",
      "------------------------------------------------------\n",
      "------------------------------------------------------\n",
      "\n",
      "The Standard Deviation of the average of the average of the Age and Length of Service\n",
      "\n",
      "           Age Length of Service\n",
      "         mean              mean\n",
      "std  3.262535          1.687344\n"
     ]
    }
   ],
   "source": [
    "print(\"GroupedBy City Name\")\n",
    "groupedByCityName = data.groupby('City Name') \n",
    "print(groupedByCityName[numericColumns].agg([np.mean, np.std, np.amin, np.amax, np.median, np.count_nonzero]))\n",
    "\n",
    "print('\\n', 'The average of the average Age and Length of Service')\n",
    "print(\"\\n\",(groupedByCityName[numericColumns].agg([np.mean])).agg([np.mean]))\n",
    "print(\"------------------------------------------------------\")\n",
    "print(\"------------------------------------------------------\")\n",
    "\n",
    "print('\\nThe Standard Deviation of the average of the average of the Age and Length of Service')\n",
    "print(\"\\n\", (groupedByCityName[numericColumns].agg([np.mean])).agg([np.std]))"
   ]
  },
  {
   "cell_type": "code",
   "execution_count": 34,
   "metadata": {},
   "outputs": [
    {
     "name": "stdout",
     "output_type": "stream",
     "text": [
      "groupedBy Department Name\n",
      "                              Age            Length of Service          \n",
      "                             mean        std              mean       std\n",
      "Department Name                                                         \n",
      "Accounting              64.833333   0.408248         24.833333  0.408248\n",
      "Accounts Payable        62.750000   2.500000         22.750000  2.500000\n",
      "Accounts Receiveable    62.000000   2.738613         22.000000  2.738613\n",
      "Audit                   60.500000   2.380476         20.500000  2.380476\n",
      "Bakery                  45.753898   8.913220         14.144766  4.415840\n",
      "Compensation            60.250000   2.500000         20.250000  2.500000\n",
      "Customer Service        30.780672  11.090565          6.714286  5.938772\n",
      "Dairy                   39.840271  11.248800         10.905131  5.021533\n",
      "Employee Records        63.166667   2.483277         22.333333  2.581989\n",
      "Executive               56.900000   3.348300         26.000000  0.000000\n",
      "HR Technology           62.888889   3.059593         22.111111  2.891559\n",
      "Information Technology  59.000000   0.000000         19.000000  0.000000\n",
      "Investment              61.000000   2.708013         21.000000  2.708013\n",
      "Labor Relations         61.500000   2.738613         20.666667  2.581989\n",
      "Legal                   60.666667   2.886751         20.666667  2.886751\n",
      "Meats                   57.391374   8.712121         18.319489  5.451641\n",
      "Processed Foods         35.737772  10.725289          9.419837  5.657969\n",
      "Produce                 53.433019   8.997652         15.341509  4.922091\n",
      "Recruitment             61.666667   3.905125         23.111111  2.420973\n",
      "Store Management        61.542857   3.980414         22.628571  2.579167\n",
      "Training                61.000000   2.738613         21.000000  2.738613\n"
     ]
    }
   ],
   "source": [
    "print(\"groupedBy Department Name\")\n",
    "groupedByDepartmentName = data.groupby('Department Name')\n",
    "print(groupedByDepartmentName[numericColumns].agg([np.mean, np.std]))"
   ]
  },
  {
   "cell_type": "code",
   "execution_count": 35,
   "metadata": {},
   "outputs": [
    {
     "name": "stdout",
     "output_type": "stream",
     "text": [
      "groupedBy Business Unit then Department Name\n",
      "                                               Age                             \\\n",
      "                                     count_nonzero       mean        std amin   \n",
      "Business_Unit Department Name                                                   \n",
      "HEADOFFICE    Accounting                         6  64.833333   0.408248   64   \n",
      "              Accounts Payable                   4  62.750000   2.500000   59   \n",
      "              Accounts Receiveable               5  62.000000   2.738613   59   \n",
      "              Audit                              4  60.500000   2.380476   59   \n",
      "              Compensation                       4  60.250000   2.500000   59   \n",
      "              Employee Records                   6  63.166667   2.483277   60   \n",
      "              Executive                         10  56.900000   3.348300   51   \n",
      "              HR Technology                      9  62.888889   3.059593   57   \n",
      "              Information Technology             5  59.000000   0.000000   59   \n",
      "              Investment                         4  61.000000   2.708013   59   \n",
      "              Labor Relations                    6  61.500000   2.738613   59   \n",
      "              Legal                              3  60.666667   2.886751   59   \n",
      "              Recruitment                        9  61.666667   3.905125   53   \n",
      "              Training                           5  61.000000   2.738613   59   \n",
      "STORES        Bakery                           898  45.753898   8.913220   24   \n",
      "              Customer Service                1190  30.780672  11.090565   19   \n",
      "              Dairy                           1033  39.840271  11.248800   21   \n",
      "              Meats                           1252  57.391374   8.712121   26   \n",
      "              Processed Foods                  736  35.737772  10.725289   20   \n",
      "              Produce                         1060  53.433019   8.997652   20   \n",
      "              Store Management                  35  61.542857   3.980414   48   \n",
      "\n",
      "                                          Length of Service             \\\n",
      "                                     amax     count_nonzero       mean   \n",
      "Business_Unit Department Name                                            \n",
      "HEADOFFICE    Accounting               65                 6  24.833333   \n",
      "              Accounts Payable         64                 4  22.750000   \n",
      "              Accounts Receiveable     64                 5  22.000000   \n",
      "              Audit                    64                 4  20.500000   \n",
      "              Compensation             64                 4  20.250000   \n",
      "              Employee Records         65                 6  22.333333   \n",
      "              Executive                61                10  26.000000   \n",
      "              HR Technology            65                 9  22.111111   \n",
      "              Information Technology   59                 5  19.000000   \n",
      "              Investment               65                 4  21.000000   \n",
      "              Labor Relations          65                 6  20.666667   \n",
      "              Legal                    64                 3  20.666667   \n",
      "              Recruitment              64                 9  23.111111   \n",
      "              Training                 64                 5  21.000000   \n",
      "STORES        Bakery                   65               897  14.144766   \n",
      "              Customer Service         65              1170   6.714286   \n",
      "              Dairy                    65              1029  10.905131   \n",
      "              Meats                    65              1252  18.319489   \n",
      "              Processed Foods          65               730   9.419837   \n",
      "              Produce                  65              1060  15.341509   \n",
      "              Store Management         65                35  22.628571   \n",
      "\n",
      "                                                          \n",
      "                                           std amin amax  \n",
      "Business_Unit Department Name                             \n",
      "HEADOFFICE    Accounting              0.408248   24   25  \n",
      "              Accounts Payable        2.500000   19   24  \n",
      "              Accounts Receiveable    2.738613   19   24  \n",
      "              Audit                   2.380476   19   24  \n",
      "              Compensation            2.500000   19   24  \n",
      "              Employee Records        2.581989   19   24  \n",
      "              Executive               0.000000   26   26  \n",
      "              HR Technology           2.891559   17   24  \n",
      "              Information Technology  0.000000   19   19  \n",
      "              Investment              2.708013   19   25  \n",
      "              Labor Relations         2.581989   19   24  \n",
      "              Legal                   2.886751   19   24  \n",
      "              Recruitment             2.420973   19   26  \n",
      "              Training                2.738613   19   24  \n",
      "STORES        Bakery                  4.415840    0   25  \n",
      "              Customer Service        5.938772    0   25  \n",
      "              Dairy                   5.021533    0   25  \n",
      "              Meats                   5.451641    3   26  \n",
      "              Processed Foods         5.657969    0   25  \n",
      "              Produce                 4.922091    1   25  \n",
      "              Store Management        2.579167   19   26  \n"
     ]
    }
   ],
   "source": [
    "print(\"groupedBy Business Unit then Department Name\")\n",
    "groupedByBUDN= data.groupby(['Business_Unit', 'Department Name'])\n",
    "print(groupedByBUDN[numericColumns].agg([np.count_nonzero, np.mean, np.std, np.min, np.max]))"
   ]
  },
  {
   "cell_type": "code",
   "execution_count": 36,
   "metadata": {},
   "outputs": [
    {
     "name": "stdout",
     "output_type": "stream",
     "text": [
      "------------------------------------------------------\n",
      "------------------------------------------------------\n",
      "Linear Regression between Age and Length of Service\n",
      "The coefficient of determination (R squared) is:\t 0.7279476682707341\n",
      "The coefficient (a) of this linear regression is:\t 0.4091400309256765\n",
      "The intercept (b) of this linear regression is:\t\t -5.440638319763535\n",
      "------------------------------------------------------\n",
      "------------------------------------------------------\n",
      "The predicted length of service for someone aged 35 is 8.\n",
      "The predicted length of service for someone aged 60 is 19.\n",
      "------------------------------------------------------\n",
      "------------------------------------------------------\n"
     ]
    }
   ],
   "source": [
    "print(\"------------------------------------------------------\")\n",
    "print(\"------------------------------------------------------\")\n",
    "# linear regression\n",
    "# age vs length_of_service\n",
    "X=data['Age'].values.reshape(-1, 1)\n",
    "y=data['Length of Service'].values.reshape(-1, 1)\n",
    "linreg = LinearRegression(normalize=True, n_jobs=2).fit(X, y)\n",
    "print(\"Linear Regression between Age and Length of Service\")\n",
    "print(\"The coefficient of determination (R squared) is:\\t\",float(linreg.score(X,y)))\n",
    "print(\"The coefficient (a) of this linear regression is:\\t\",float(linreg.coef_)) #a\n",
    "print(\"The intercept (b) of this linear regression is:\\t\\t\", float(linreg.intercept_)) #b\n",
    "print(\"------------------------------------------------------\")\n",
    "print(\"------------------------------------------------------\")\n",
    "\n",
    "def predictedLoS(age):\n",
    "    return print(\"The predicted length of service for someone aged\", age, \"is\", \n",
    "                 int(linreg.coef_ * age + linreg.intercept_), \"\\b.\")\n",
    "\n",
    "predictedLoS(35)\n",
    "predictedLoS(60)\n",
    "\n",
    "print(\"------------------------------------------------------\")\n",
    "print(\"------------------------------------------------------\")"
   ]
  },
  {
   "cell_type": "code",
   "execution_count": 37,
   "metadata": {},
   "outputs": [
    {
     "name": "stdout",
     "output_type": "stream",
     "text": [
      "------------------------------------------------------\n",
      "------------------------------------------------------\n",
      "GroupedBy Term Type then Term Reason\n",
      "                                         Age                                  \\\n",
      "                              count_nonzero       mean        std amin amax   \n",
      "Term Type      Term Reason                                                    \n",
      "Involuntary    Layoff                   215  40.804651  13.603840   20   64   \n",
      "Not Applicable Not Applicable          5336  43.648238  13.328231   19   65   \n",
      "Voluntary      Resignaton               221  29.990950   9.472924   19   61   \n",
      "               Retirement               512  63.300781   2.370596   60   65   \n",
      "\n",
      "                              Length of Service                                 \n",
      "                                  count_nonzero       mean       std amin amax  \n",
      "Term Type      Term Reason                                                      \n",
      "Involuntary    Layoff                       215  11.948837  7.293717    1   25  \n",
      "Not Applicable Not Applicable              5319  13.103261  6.698712    0   26  \n",
      "Voluntary      Resignaton                   207   4.647059  4.585784    0   21  \n",
      "               Retirement                   512  13.962891  5.354424    8   25  \n"
     ]
    }
   ],
   "source": [
    "print(\"------------------------------------------------------\")\n",
    "print(\"------------------------------------------------------\")\n",
    "\n",
    "#Of those who were/are terminated, what is the breakdown of why?\n",
    "groupedByTermTypeReason = data.groupby(['Term Type', 'Term Reason'])\n",
    "print(\"GroupedBy Term Type then Term Reason\\n\", groupedByTermTypeReason[numericColumns]\n",
    "      .agg([np.count_nonzero, np.mean, np.std, np.min, np.max]))"
   ]
  },
  {
   "cell_type": "code",
   "execution_count": 38,
   "metadata": {},
   "outputs": [
    {
     "name": "stdout",
     "output_type": "stream",
     "text": [
      "Group by Age Ranges\n"
     ]
    },
    {
     "data": {
      "image/png": "[encoded data removed]",
      "text/plain": [
       "<Figure size 432x288 with 1 Axes>"
      ]
     },
     "metadata": {
      "needs_background": "light"
     },
     "output_type": "display_data"
    }
   ],
   "source": [
    "print(\"Group by Age Ranges\")\n",
    "ageColumn=data.loc[data['Status']== 'ACTIVE',['Age']]\n",
    "\n",
    "sbn.set_color_codes()\n",
    "\n",
    "ax=sbn.distplot(ageColumn, color=\"blue\", kde=False, bins=23, axlabel=\"Employee Age\")"
   ]
  },
  {
   "cell_type": "code",
   "execution_count": 39,
   "metadata": {},
   "outputs": [
    {
     "name": "stdout",
     "output_type": "stream",
     "text": [
      "Length of Service by Gender\n",
      "Descriptive Statistics\n",
      "       Length of Service                               \n",
      "           count_nonzero       mean       std amin amax\n",
      "Gender                                                 \n",
      "F                   3265  13.159549  6.711127    0   26\n",
      "M                   2988  12.484032  6.771004    0   26\n"
     ]
    }
   ],
   "source": [
    "print(\"Length of Service by Gender\")\n",
    "print(\"Descriptive Statistics\")\n",
    "\n",
    "groupedByGenders= data.groupby(['Gender'])\n",
    "length_of_service=[\"Length of Service\"]\n",
    "print(groupedByGender[length_of_service]\n",
    "      .agg([np.count_nonzero, np.mean, np.std, np.min, np.max]))"
   ]
  }
 ],
 "metadata": {
  "kernelspec": {
   "display_name": "Python 3",
   "language": "python",
   "name": "python3"
  },
  "language_info": {
   "codemirror_mode": {
    "name": "ipython",
    "version": 3
   },
   "file_extension": ".py",
   "mimetype": "text/x-python",
   "name": "python",
   "nbconvert_exporter": "python",
   "pygments_lexer": "ipython3",
   "version": "3.8.3"
  }
 },
 "nbformat": 4,
 "nbformat_minor": 4
}
